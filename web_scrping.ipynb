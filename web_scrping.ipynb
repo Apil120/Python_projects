!pip install bs4
!pip install requests
!pip install pandas

url='https://www.worldometers.info/coronavirus/'

impoer requests
response=requests.get(url)
print(response) #Output is <Response [200]>

print(type(response)) #Output= <class 'requests.models.Response'>

print(response.content) #Output is the HTML code of the site.

from bs4 import BeautifulSoup


soup = BeautifulSoup(response.content, 'html.parser')
print(type(soup)) #Output is <class 'bs4.BeautifulSoup'>

print(soup.prettify()[:5000]) #Output is the HTML code in an arranged way.

print(soup.select('title')) #Output is [<title>COVID - Coronavirus Statistics - Worldometer</title>]

title_text=soup.select('title')
print(title_text[0].getText()) #Output is 'COVID - Coronavirus Statistics - Worldometer'

print(type(title_text[0])) #Output is <class 'bs4.element.Tag'>
